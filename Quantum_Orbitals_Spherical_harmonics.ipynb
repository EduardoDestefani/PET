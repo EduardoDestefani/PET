{
  "nbformat": 4,
  "nbformat_minor": 0,
  "metadata": {
    "kernelspec": {
      "display_name": "Python 3",
      "language": "python",
      "name": "python3"
    },
    "language_info": {
      "codemirror_mode": {
        "name": "ipython",
        "version": 3
      },
      "file_extension": ".py",
      "mimetype": "text/x-python",
      "name": "python",
      "nbconvert_exporter": "python",
      "pygments_lexer": "ipython3",
      "version": "3.7.3"
    },
    "colab": {
      "name": "Quantum_Orbitals_Spherical_harmonics.ipynb",
      "provenance": [],
      "collapsed_sections": []
    }
  },
  "cells": [
    {
      "cell_type": "markdown",
      "metadata": {
        "id": "FBv1gpf7a6m5"
      },
      "source": [
        "# Orbitais Quânticos: Harmônicos Esféricos\n",
        "* PET - Física UFRN\n",
        "* Petiano: Gabriel Zuza\n",
        "* Data: 11/2020\n",
        "\n",
        "O Objetivo desse `Notebook` não é abordar de forma teórica as deduções e métodos envolvidos nos problemas, mas na prática, aplicar tais conceitos obtendo resultados concretos e representativos.\n",
        "\n"
      ]
    },
    {
      "cell_type": "markdown",
      "metadata": {
        "id": "o8FyDf9fVLC8"
      },
      "source": [
        "## Introdução Teórica"
      ]
    },
    {
      "cell_type": "markdown",
      "metadata": {
        "id": "2Q9Z9tApglwu"
      },
      "source": [
        "De início vamos definir nosso referêncial. Consideremos um problema tri-dimensional, descrito em coordenadas coordenadas esféricas. As coordenadas esféricas se relacionam com as coordenadas cartesianas pelas relações explicitadas conforme a figura abaixo:\n"
      ]
    },
    {
      "cell_type": "markdown",
      "metadata": {
        "id": "PHJBJJsjVLJs"
      },
      "source": [
        "![coordenadas.png](https://imgur.com/n91BE3s.png)"
      ]
    },
    {
      "cell_type": "markdown",
      "metadata": {
        "id": "DINaEfCWYyaY"
      },
      "source": [
        "Vamos resolver a equação de Schrödinger para o átomo de hidrogênio e para três dimensões em coordenadas esféricas como apresentadas acima. Assim, a Equação de Schrödinger é dada por:"
      ]
    },
    {
      "cell_type": "markdown",
      "metadata": {
        "id": "YWuFh0hyVLFX"
      },
      "source": [
        "$\\hat {H} (r , \\theta , \\varphi ) \\psi (r , \\theta , \\varphi ) = E \\psi ( r , \\theta , \\varphi)$"
      ]
    },
    {
      "cell_type": "markdown",
      "metadata": {
        "id": "nDf35SwSZLmi"
      },
      "source": [
        "Onde ${H}$ é o hamiltoniano que na mecânica clássica é a função que representa a energia total do sistema e é descrito como $H = T +V$ (energia cinética somada a energia potencial). Já na mecânica quantica, como é o caso de nosso problema, temos o operador hamiltoniano que é dado por:"
      ]
    },
    {
      "cell_type": "markdown",
      "metadata": {
        "id": "NdiWVjeOZwF8"
      },
      "source": [
        "$\\hat {H} = \\hat {T} + \\hat {V}$"
      ]
    },
    {
      "cell_type": "markdown",
      "metadata": {
        "id": "1mgKQxI-avh8"
      },
      "source": [
        "Onde:"
      ]
    },
    {
      "cell_type": "markdown",
      "metadata": {
        "id": "xVUGyiuAdm-1"
      },
      "source": [
        "$\\hat {V} (r) = - \\dfrac {e^2}{4 \\pi \\epsilon _0 r \\;}$"
      ]
    },
    {
      "cell_type": "markdown",
      "metadata": {
        "id": "qh8ahClJcQN_"
      },
      "source": [
        "${\\; \\hat {T} (r,\\theta,\\varphi)}={\\frac {\\mathbf {\\hat {p}} \\cdot \\mathbf {\\hat {p}} }{2m}}={\\frac {{\\hat {p}}^{2}}{2m}}=-{\\frac {\\hbar ^{2}}{2m}}\\nabla ^{2}$"
      ]
    },
    {
      "cell_type": "markdown",
      "metadata": {
        "id": "f-IdhA_9g-Qg"
      },
      "source": [
        "Assim, usando a definição do laplaciano $\\nabla^2$ em coordenadas esféricas, temos:"
      ]
    },
    {
      "cell_type": "markdown",
      "metadata": {
        "id": "AoHCyG43hEU3"
      },
      "source": [
        "$\\therefore \\; \\hat {T} =  -\\dfrac {\\hbar ^2}{2 m r^2} \\left [ \\dfrac {\\partial}{\\partial r} \\left (r^2 \\dfrac {\\partial}{\\partial r} \\right ) + \\dfrac {1}{\\sin \\theta } \\dfrac {\\partial}{\\partial \\theta } \\left ( \\sin \\theta \\dfrac {\\partial}{\\partial \\theta} \\right ) + \\dfrac {1}{\\sin ^2 \\theta} \\dfrac {\\partial ^2}{\\partial \\varphi ^2} \\right ] $"
      ]
    },
    {
      "cell_type": "markdown",
      "metadata": {
        "id": "svcsF_uUb2nK"
      },
      "source": [
        "Assim a Equação de Schrödinger em coordenadas esféricas pode ser escrita como:"
      ]
    },
    {
      "cell_type": "markdown",
      "metadata": {
        "id": "M8l8fMlidnAw"
      },
      "source": [
        "$\\left \\{ -\\dfrac {\\hbar ^2}{2 \\mu r^2} \\left [ \\dfrac {\\partial}{\\partial r} \\left (r^2 \\dfrac {\\partial}{\\partial r} \\right ) + \\dfrac {1}{\\sin \\theta } \\dfrac {\\partial}{\\partial \\theta } \\left ( \\sin \\theta \\dfrac {\\partial}{\\partial \\theta} \\right ) + \\dfrac {1}{\\sin ^2 \\theta} \\dfrac {\\partial ^2}{\\partial \\varphi ^2} \\right ] - \\dfrac {e^2}{4 \\pi \\epsilon _0 r } \\right \\} \\psi (r , \\theta , \\varphi ) = E \\psi (r , \\theta , \\varphi )$"
      ]
    },
    {
      "cell_type": "markdown",
      "metadata": {
        "id": "mV6R98x9kjsN"
      },
      "source": [
        "Perceba que aqui usamos $\\mu$ como a massa. Na mecânica quântica definimos a massa reduzida que é inserida para que levemos em conta o movimento do núcleo também, a massa reduzida é definida por: $\\mu = m_e /(1+m_e/M_N)$ onde $m_e$ é a massa do elétron e $M_N$ é a massa do núcleo."
      ]
    },
    {
      "cell_type": "markdown",
      "metadata": {
        "id": "-2jsr-ZDhm89"
      },
      "source": [
        "Vamos procurar uma solução para essa equação que seja separável, ou seja, que possa ser escrita como produto de funções para cada uma das variáveis, de forma que:"
      ]
    },
    {
      "cell_type": "markdown",
      "metadata": {
        "id": "YQieC76al96D"
      },
      "source": [
        "$ \\psi (r , \\theta , \\varphi ) = R (r) f (\\theta)g(\\varphi )$"
      ]
    },
    {
      "cell_type": "markdown",
      "metadata": {
        "id": "YNmH4rp2nEl_"
      },
      "source": [
        "Assim, podemos definir uma solução radial $R(r)$ e uma solução angular $Y(\\theta,\\varphi)$ para $\\psi(r,\\theta,\\varphi)$, tal que $Y(\\theta,\\varphi) = f(\\theta) g(\\varphi)$. A vantagem de usar essa abordagem é que a função $Y(\\theta,\\varphi)$ descreve a dependência angular de $\\psi(r,\\theta,\\varphi)$ para todas as simetrias esféricas de potencial. Essa família de funções provenientes de $Y(\\theta,\\varphi)$ são chamadas de harmônicos esféricos. Dessa forma, a solução fica no seguinte formato:"
      ]
    },
    {
      "cell_type": "markdown",
      "metadata": {
        "id": "sDzrmspcdnCk"
      },
      "source": [
        "$ \\psi (r , \\theta , \\varphi ) = R (r) Y (\\theta , \\varphi )$\n"
      ]
    },
    {
      "cell_type": "markdown",
      "metadata": {
        "id": "eY12NG3rwpd-"
      },
      "source": [
        "Sendo assim, a parte da solução em $r$ não vai influenciar no formato dos orbitais, apenas a parte da solução angular."
      ]
    },
    {
      "cell_type": "markdown",
      "metadata": {
        "id": "CBeT3uZGeOUB"
      },
      "source": [
        "Diante disso, resolvendo a Equação diferencial parcial (Equação de Schrödinger), a solução para a parte angular fica dependente apenas dos segundo e terceiro números quânticos, $m$ e $l$:"
      ]
    },
    {
      "cell_type": "markdown",
      "metadata": {
        "id": "KjdpU6gr06cM"
      },
      "source": [
        "$\\large {Y_l^m( \\theta , \\varphi ) = A \\; P_{l m} ( \\cos{\\theta} ) \\, e^{i m \\varphi }}$"
      ]
    },
    {
      "cell_type": "markdown",
      "metadata": {
        "id": "eIe0t4S7z9NE"
      },
      "source": [
        "Essa equação é lida como a função harmônica esférica de grau $l$ e ordem $m$."
      ]
    },
    {
      "cell_type": "markdown",
      "metadata": {
        "id": "7BAttN7m1Iuk"
      },
      "source": [
        "Onde $A$ é uma constante de normalização e $P_{l m} ( \\cos{\\theta} )$ é o polinômio associado de Legendre. Os polinômios associados de Legendre são uma família de polinômios ortogonais que são soluções da equação diferencial de Legendre a equação de Legendre é tal que:"
      ]
    },
    {
      "cell_type": "markdown",
      "metadata": {
        "id": "5ChEDekR2Cwz"
      },
      "source": [
        "$(1-x^{2})y''(x)-2xy'(x)+\\left(l(l+1)-{\\frac {m^{2}}{(1-x^{2})}}\\right)y(x)\\,=\\,0$"
      ]
    },
    {
      "cell_type": "markdown",
      "metadata": {
        "id": "iP4rtpUJ2YfE"
      },
      "source": [
        "Assim os polinômios de Legendre podem ser dados pela fórmula de Rodrigues:"
      ]
    },
    {
      "cell_type": "markdown",
      "metadata": {
        "id": "TOZMmvqA2p3N"
      },
      "source": [
        "$P_{l}^{m}(x)\\,=\\,{\\frac {(-1)^{m}}{l!\\,2^{l}}}(1-x^{2})^{{m}/{2}}{\\frac {{\\text{d}}^{l+m}}{{\\text{d}}x^{l+m}}}(x^{2}-1)^{l}$"
      ]
    },
    {
      "cell_type": "markdown",
      "metadata": {
        "id": "V_2Iyk4q33gh"
      },
      "source": [
        "Dessa forma Usando a condição de normalização para obter a Equação normalizada, Temos:"
      ]
    },
    {
      "cell_type": "markdown",
      "metadata": {
        "id": "ANXsqHuT3_Hv"
      },
      "source": [
        "$ \\int^{\\infty}_{-\\infty} <\\psi\\;|\\;\\psi> dv = 1 $"
      ]
    },
    {
      "cell_type": "markdown",
      "metadata": {
        "id": "DkLhFGHlVLHs"
      },
      "source": [
        "$\\large {Y_l^m( \\theta , \\varphi ) = (-1)^m \\sqrt{\\frac{(2l+1)}{ 4\\pi}\\frac{(l-m)!}{(l+m)!}}  \\, P_{l m} ( \\cos{\\theta} ) \\, e^{i m \\varphi }}$"
      ]
    },
    {
      "cell_type": "markdown",
      "metadata": {
        "id": "dmw_VbIExCSs"
      },
      "source": [
        "O termo ${(-1)}^m$ que aparece na equação é  a fase de Condon-Shortley e é um dos termos que diferencia a apresentação de esféricos harmonicos do caso quântico em relação a outras aplicações como na acústica, onde esse termo não aparece."
      ]
    },
    {
      "cell_type": "markdown",
      "metadata": {
        "id": "065YxKJH0Kdd"
      },
      "source": [
        "Já o termo $\\sqrt{\\frac{(2l+1)}{ 4\\pi}\\frac{(l-m)!}{(l+m)!}}$, aparece ao normalizar a função de onda."
      ]
    },
    {
      "cell_type": "markdown",
      "metadata": {
        "id": "j88YDM_7-Ub9"
      },
      "source": [
        "Vale lembrar também que pela fórmula de Euler podemos reescrever $e^{im\\varphi}$ como:"
      ]
    },
    {
      "cell_type": "markdown",
      "metadata": {
        "id": "w74LiBbf-g0k"
      },
      "source": [
        "$e^{im\\varphi} = cos(m\\varphi) + i \\:sin(m\\varphi)$"
      ]
    },
    {
      "cell_type": "markdown",
      "metadata": {
        "id": "NSBUONyc-yyE"
      },
      "source": [
        "Isso será bastante útil na implementação das equações."
      ]
    },
    {
      "cell_type": "markdown",
      "metadata": {
        "id": "ncGHO6W1r_Qy"
      },
      "source": [
        "Relembrando os números quânticos $n$, $l$ e $m$ estão associados a $r,\\theta $ e $\\varphi$. A energia para o átomo do hidrogênio depende somente o primeiro número quântico devido ao força ser inversamente proporcial ao quadrado do raio. De modo que:"
      ]
    },
    {
      "cell_type": "markdown",
      "metadata": {
        "id": "czqPoo_AeORY"
      },
      "source": [
        "$n = 1,2,3...$"
      ]
    },
    {
      "cell_type": "markdown",
      "metadata": {
        "id": "z080hwhrrcWB"
      },
      "source": [
        "$l = 0,1,2...(n-1)$"
      ]
    },
    {
      "cell_type": "markdown",
      "metadata": {
        "id": "sy5SA29mrh6b"
      },
      "source": [
        "$m = -l,(-l + 1)...+l$"
      ]
    },
    {
      "cell_type": "markdown",
      "metadata": {
        "id": "UezMC5lHtbPs"
      },
      "source": [
        "Pronto, após essa breve introdução podemos implementar as equações."
      ]
    },
    {
      "cell_type": "markdown",
      "metadata": {
        "id": "fEBpNQ1Ca6m6"
      },
      "source": [
        "## Importando bibliotecas e declarando constantes:"
      ]
    },
    {
      "cell_type": "code",
      "metadata": {
        "id": "YnSABv_2a6m7"
      },
      "source": [
        "import numpy as np\n",
        "import matplotlib.pyplot as plt\n",
        "import matplotlib\n",
        "from mpl_toolkits.mplot3d import Axes3D\n",
        "from matplotlib import cm\n",
        "from scipy import special as sp\n",
        "import scipy.linalg as scl\n",
        "from scipy import constants as cs\n",
        "from matplotlib import cm\n",
        "from math import ceil"
      ],
      "execution_count": null,
      "outputs": []
    },
    {
      "cell_type": "markdown",
      "metadata": {
        "id": "wIzqoAM2a6m-"
      },
      "source": [
        "## Obtendo a configuração eletrônica:"
      ]
    },
    {
      "cell_type": "markdown",
      "metadata": {
        "id": "hn0itHnKa6m-"
      },
      "source": [
        "* Para l =0:"
      ]
    },
    {
      "cell_type": "code",
      "metadata": {
        "id": "EI_ggdlka6m-"
      },
      "source": [
        "l = 0"
      ],
      "execution_count": null,
      "outputs": []
    },
    {
      "cell_type": "markdown",
      "metadata": {
        "id": "9lfimc1Z6lDg"
      },
      "source": [
        "Criando o canvas para fazer o plot das representações e definindo constantes:"
      ]
    },
    {
      "cell_type": "code",
      "metadata": {
        "id": "seqzz1VQ6sOg"
      },
      "source": [
        "save_folder = 'imagens'\n",
        "fig = plt.figure(figsize=(9,9))\n",
        "ax = fig.gca(projection='3d')\n",
        "n=1\n",
        "m = n-\n",
        "mr = cs.m_e*cs.m_p/(cs.m_p + cs.m_e)"
      ],
      "execution_count": null,
      "outputs": []
    },
    {
      "cell_type": "markdown",
      "metadata": {
        "id": "2dRrw77C6vbl"
      },
      "source": [
        "Criando agora um meshgrid para todos os valores nos intervalos: $0 \\leqslant \\theta \\leqslant 2\\pi$ e $0 \\leqslant \\varphi \\leqslant \\pi$"
      ]
    },
    {
      "cell_type": "code",
      "metadata": {
        "id": "6QYQ4Fpq7mRj"
      },
      "source": [
        "theta_list, phi_list = np.linspace(0, 2 * np.pi, 360), np.linspace(0, np.pi, 360)\n",
        "THETA, PHI = np.meshgrid(theta_list, phi_list)"
      ],
      "execution_count": null,
      "outputs": []
    },
    {
      "cell_type": "markdown",
      "metadata": {
        "id": "qsWWSBJe7l2n"
      },
      "source": [
        "Implementando a equação discutida na na introdução teórica, usando para implementar os polinômios associados de Legendre uma função do `scipy` que fornece [várias implementações dos polinômos de legendre](https://docs.scipy.org/doc/scipy/reference/special.html#legendre-functions). Logo após já vamos transformar de coordenadas esféricas para coordenadas cartesianas, usando as relações apresentadas na primeira imagem desse notebook:"
      ]
    },
    {
      "cell_type": "code",
      "metadata": {
        "id": "Ub94_GF18mIw"
      },
      "source": [
        "R = (((-1)**m)*np.sqrt((2*l+1)*np.math.factorial(l-m)/(4*np.pi*np.math.factorial(m+l)))*sp.lpmv(m,l,np.cos(THETA)))*np.cos(THETA)\n",
        "\n",
        "X = R * np.sin(THETA) * np.cos(PHI)\n",
        "Y = R * np.sin(THETA) * np.sin(PHI)\n",
        "Z = R * np.cos(THETA)"
      ],
      "execution_count": null,
      "outputs": []
    },
    {
      "cell_type": "markdown",
      "metadata": {
        "id": "azSl0WD08mYP"
      },
      "source": [
        "Agora vamos plotar uma superfície `3d` para representar o orbital quântico:"
      ]
    },
    {
      "cell_type": "code",
      "metadata": {
        "scrolled": false,
        "id": "O_6zcetma6nB"
      },
      "source": [
        "ax.plot_surface(X, Y, Z,cmap=cm.winter)\n",
        "title = ' l='+str(l)+' m='+str(m)\n",
        "ax.set_title(title, fontsize=28)\n",
        "ax.grid(False)\n",
        "ax.set_xticks([])\n",
        "ax.set_yticks([])\n",
        "ax.set_zticks([])\n",
        "ax.set_axis_off()"
      ],
      "execution_count": null,
      "outputs": []
    },
    {
      "cell_type": "markdown",
      "metadata": {
        "id": "qUClSlZi_ZU4"
      },
      "source": [
        "Proto, agora vamos fazer uma rotina para rotacionar a nossa superfície e savar cada frame em uma pasta para depois converter em GIF:"
      ]
    },
    {
      "cell_type": "code",
      "metadata": {
        "id": "I12fxShy_PLA"
      },
      "source": [
        "for n in range(0, 90):\n",
        "    ax.elev = ax.elev - 2\n",
        "    ax.azim = ax.azim + 2.5\n",
        "    #plt.savefig('{}/img{:03d}.png'.format(save_folder, n), bbox_inches='tight',dpi=300)"
      ],
      "execution_count": null,
      "outputs": []
    },
    {
      "cell_type": "markdown",
      "metadata": {
        "id": "UqfJA2PQa7zL"
      },
      "source": [
        "![texto do link](https://media0.giphy.com/media/zVsKPtoToencqm0Olw/giphy.gif)"
      ]
    },
    {
      "cell_type": "markdown",
      "metadata": {
        "id": "QY19Q7kYa6nD"
      },
      "source": [
        "## Obtendo a configuração eletrônica:"
      ]
    },
    {
      "cell_type": "markdown",
      "metadata": {
        "id": "GWZ0OQ1Ha6nE"
      },
      "source": [
        "* Para l = 1:\n",
        "repetiremos praticamente o mesmo procedimento, mas faremos vetores de axis para plotar com a função subplot:"
      ]
    },
    {
      "cell_type": "code",
      "metadata": {
        "id": "GnzJAid7a6nE"
      },
      "source": [
        "l = 1"
      ],
      "execution_count": null,
      "outputs": []
    },
    {
      "cell_type": "code",
      "metadata": {
        "id": "hq69ysv8a6nG"
      },
      "source": [
        "if (l==1):\n",
        "    f, ax = plt.subplots(1,2, subplot_kw=dict(projection='3d'), figsize=(16,9))\n",
        "    \n",
        "    for n in range(1,l+2):    \n",
        "        m = n-1\n",
        "        theta_list, phi_list = np.linspace(0, 2 * np.pi, 360), np.linspace(0, np.pi, 360)\n",
        "        THETA, PHI = np.meshgrid(theta_list, phi_list)\n",
        "        R = (((-1)**m)*np.sqrt((2*l+1)*np.math.factorial(l-m)/(4*np.pi*np.math.factorial(m+l)))*sp.lpmv(m,l,np.cos(THETA)))*np.cos(m*THETA)\n",
        "\n",
        "        X = R * np.sin(THETA) * np.cos(PHI)\n",
        "        Y = R * np.sin(THETA) * np.sin(PHI)\n",
        "        Z = R * np.cos(THETA)\n",
        "\n",
        "        ax[m].plot_surface(X, Y, Z,cmap=cm.winter)\n",
        "        title = ' l='+str(l)+' m='+str(m)\n",
        "        ax[m].set_title(title, fontsize=28)\n",
        "        ax[m].grid(False)\n",
        "        ax[m].set_xticks([])\n",
        "        ax[m].set_yticks([])\n",
        "        ax[m].set_zticks([])\n",
        "        ax[m].set_axis_off()\n",
        "\n",
        "for n in range(0, 90):\n",
        "    ax[0].elev = ax[0].elev - 2\n",
        "    ax[0].azim = ax[0].azim + 2.5\n",
        "    ax[1].elev = ax[1].elev - 2\n",
        "    ax[1].azim = ax[1].azim + 2.5\n",
        "    #plt.savefig('{}/2img{:03d}.png'.format(save_folder, n), bbox_inches='tight',dpi=300)"
      ],
      "execution_count": null,
      "outputs": []
    },
    {
      "cell_type": "markdown",
      "metadata": {
        "id": "LzqSojPGbA5t"
      },
      "source": [
        "![texto do link](https://media4.giphy.com/media/NfMRArfDvntCZIAvQO/giphy.gif)"
      ]
    },
    {
      "cell_type": "markdown",
      "metadata": {
        "id": "_fUh_9z7a6nI"
      },
      "source": [
        "## Obtendo a configuração eletrônica:"
      ]
    },
    {
      "cell_type": "markdown",
      "metadata": {
        "id": "I5ImXAaia6nJ"
      },
      "source": [
        "* Para l $\\geq$ 2:\n",
        "repetiremos praticamente o mesmo procedimento, mas dessa vez será necessário fazer matrizes para os eixos, generalizando para qualquer valor de l $\\geq$ 2:"
      ]
    },
    {
      "cell_type": "code",
      "metadata": {
        "id": "PaMANmTWa6nK"
      },
      "source": [
        "l = 5"
      ],
      "execution_count": null,
      "outputs": []
    },
    {
      "cell_type": "code",
      "metadata": {
        "id": "SCf1mluCa6nO"
      },
      "source": [
        "_, ax = plt.subplots(2,ceil((l+1)/2), subplot_kw=dict(projection='3d'), figsize=(11,14))\n",
        "\n",
        "if ((l+1)%2 != False): \n",
        "    ax[1,ceil((l+1)/2)-1].grid(False)\n",
        "    ax[1,ceil((l+1)/2)-1].set_xticks([])\n",
        "    ax[1,ceil((l+1)/2)-1].set_yticks([])\n",
        "    ax[1,ceil((l+1)/2)-1].set_zticks([])\n",
        "    ax[1,ceil((l+1)/2)-1].set_axis_off()\n",
        "\n",
        "\n",
        "for n in range(1,l+2):      \n",
        "    m = n-1\n",
        "\n",
        "    theta, phi = np.linspace(0, 2 * np.pi, 360), np.linspace(0, np.pi, 360)\n",
        "    THETA, PHI = np.meshgrid(theta, phi)\n",
        "    R = (((-1)**m)*np.sqrt((2*l+1)*np.math.factorial(l-m)/(4*np.pi*np.math.factorial(m+l)))*sp.lpmv(m,l,np.cos(THETA)))*np.cos(m*THETA)\n",
        "\n",
        "    X = R * np.sin(THETA) * np.cos(PHI)\n",
        "    Y = R * np.sin(THETA) * np.sin(PHI)\n",
        "    Z = R * np.cos(THETA)\n",
        "\n",
        "    if (m < ceil((l+1)/2)):\n",
        "\n",
        "        ax[0,m].plot_surface(X, Y, Z,cmap=cm.winter)\n",
        "\n",
        "\n",
        "        title = ' l='+str(l)+' m='+str(m)\n",
        "        ax[0,m].set_title(title, fontsize=28)\n",
        "\n",
        "        ax[0,m].grid(False)\n",
        "\n",
        "        ax[0,m].set_xticks([])\n",
        "        ax[0,m].set_yticks([])\n",
        "        ax[0,m].set_zticks([])\n",
        "        ax[0,m].set_axis_off()\n",
        "\n",
        "    else:\n",
        "        ax[1,m - ceil((l+1)/2)].plot_surface(X, Y, Z,cmap=cm.winter)\n",
        "\n",
        "\n",
        "        title = ' l='+str(l)+' m='+str(m)\n",
        "        ax[1,m - ceil((l+1)/2)].set_title(title, fontsize=28)\n",
        "\n",
        "\n",
        "        ax[1,m - ceil((l+1)/2)].grid(False)\n",
        "\n",
        "\n",
        "        ax[1,m - ceil((l+1)/2)].set_xticks([])\n",
        "        ax[1,m - ceil((l+1)/2)].set_yticks([])\n",
        "        ax[1,m - ceil((l+1)/2)].set_zticks([])\n",
        "        ax[1,m - ceil((l+1)/2)].set_axis_off()\n",
        "\n",
        "        \n",
        "for n in range(0, 200):\n",
        "    for k in range(m-2):\n",
        "        ax[0,k].elev = (ax[0,k].elev - 0.7)\n",
        "        #ax[0,k].azim = ax[0,k].azim + 2.5\n",
        "        ax[1,k - ceil((l+1)/2)].elev = ax[1,k - ceil((l+1)/2)].elev - 0.7\n",
        "        #ax[1,k - ceil((l+1)/2)].azim = ax[1,k - ceil((l+1)/2)].azim + 2.5\n",
        "    #plt.savefig('{}/3img{:03d}.png'.format(save_folder, n), bbox_inches='tight',dpi=300)     \n"
      ],
      "execution_count": null,
      "outputs": []
    },
    {
      "cell_type": "markdown",
      "metadata": {
        "id": "7VtoNmZlbJGb"
      },
      "source": [
        "![texto do link](https://media1.giphy.com/media/QtZR5vy9JFRAazIZHl/giphy.gif)"
      ]
    },
    {
      "cell_type": "markdown",
      "metadata": {
        "id": "p93apx3tAIJk"
      },
      "source": [
        "# Referências:"
      ]
    },
    {
      "cell_type": "markdown",
      "metadata": {
        "id": "1tm5AfygAKPo"
      },
      "source": [
        "[1] - Paul A. Tipler, Ralph Llewellyn, Modern Physics 6 edition W. H. Freeman, 2012\n",
        "\n",
        "[2] - Arfken, G & Weber, H & Harris, Frank. (2012). Mathematical Methods for Physicists: A Comprehensive Guide. "
      ]
    }
  ]
}